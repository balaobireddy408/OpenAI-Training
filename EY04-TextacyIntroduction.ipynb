{
 "cells": [
  {
   "cell_type": "code",
   "execution_count": 2,
   "id": "0ff0145a-fcad-46f1-9167-0bb42bbea945",
   "metadata": {},
   "outputs": [],
   "source": [
    "import spacy\n",
    "dictionary = spacy.load('en_core_web_sm')"
   ]
  },
  {
   "cell_type": "code",
   "execution_count": 3,
   "id": "d31510d5-d1cc-4883-a917-d55814a9554a",
   "metadata": {},
   "outputs": [],
   "source": [
    "data = open('mytext.txt','rt').read()\n"
   ]
  },
  {
   "cell_type": "code",
   "execution_count": 4,
   "id": "0f9693d2-935c-4388-938a-bde0b5e4f8e9",
   "metadata": {},
   "outputs": [],
   "source": [
    "tokens = dictionary(data)"
   ]
  },
  {
   "cell_type": "code",
   "execution_count": 5,
   "id": "66e65ac2-451a-436c-a772-4ca600368a4a",
   "metadata": {},
   "outputs": [
    {
     "data": {
      "text/plain": [
       "4525"
      ]
     },
     "execution_count": 5,
     "metadata": {},
     "output_type": "execute_result"
    }
   ],
   "source": [
    "len(tokens)"
   ]
  },
  {
   "cell_type": "code",
   "execution_count": null,
   "id": "9bfee593-25e4-49bb-8b2d-986608cdc051",
   "metadata": {},
   "outputs": [],
   "source": []
  },
  {
   "cell_type": "code",
   "execution_count": 6,
   "id": "c8d2473a-f6c9-4261-aea8-325ae1e3056b",
   "metadata": {},
   "outputs": [],
   "source": [
    "# LEVER -> 3 classes -> E,F,L\n",
    "# I am going home\n",
    "# Effort -> I\n",
    "# fulcrum -> am going \n",
    "# load-> home\n",
    "\n",
    "# Noun ---- verb ---- Noun \n",
    "\n",
    "sentences = data.split('.') "
   ]
  },
  {
   "cell_type": "code",
   "execution_count": 15,
   "id": "aa7cb16e-a374-49d0-a02b-c47e54a4a2ce",
   "metadata": {},
   "outputs": [
    {
     "name": "stdout",
     "output_type": "stream",
     "text": [
      "Mantis shrimp are carnivorous marine crustaceans\n"
     ]
    }
   ],
   "source": [
    "sen = sentences[0][:48]\n",
    "print(sen)"
   ]
  },
  {
   "cell_type": "code",
   "execution_count": 16,
   "id": "f489f746-deb3-44b7-a795-7945265b7818",
   "metadata": {},
   "outputs": [
    {
     "data": {
      "text/html": [
       "<span class=\"tex2jax_ignore\"><svg xmlns=\"http://www.w3.org/2000/svg\" xmlns:xlink=\"http://www.w3.org/1999/xlink\" xml:lang=\"en\" id=\"80f9986b1c974eea85698797efa0564d-0\" class=\"displacy\" width=\"1100\" height=\"399.5\" direction=\"ltr\" style=\"max-width: none; height: 399.5px; color: #000000; background: #ffffff; font-family: Arial; direction: ltr\">\n",
       "<text class=\"displacy-token\" fill=\"currentColor\" text-anchor=\"middle\" y=\"309.5\">\n",
       "    <tspan class=\"displacy-word\" fill=\"currentColor\" x=\"50\">Mantis</tspan>\n",
       "    <tspan class=\"displacy-tag\" dy=\"2em\" fill=\"currentColor\" x=\"50\">NOUN</tspan>\n",
       "</text>\n",
       "\n",
       "<text class=\"displacy-token\" fill=\"currentColor\" text-anchor=\"middle\" y=\"309.5\">\n",
       "    <tspan class=\"displacy-word\" fill=\"currentColor\" x=\"225\">shrimp</tspan>\n",
       "    <tspan class=\"displacy-tag\" dy=\"2em\" fill=\"currentColor\" x=\"225\">NOUN</tspan>\n",
       "</text>\n",
       "\n",
       "<text class=\"displacy-token\" fill=\"currentColor\" text-anchor=\"middle\" y=\"309.5\">\n",
       "    <tspan class=\"displacy-word\" fill=\"currentColor\" x=\"400\">are</tspan>\n",
       "    <tspan class=\"displacy-tag\" dy=\"2em\" fill=\"currentColor\" x=\"400\">AUX</tspan>\n",
       "</text>\n",
       "\n",
       "<text class=\"displacy-token\" fill=\"currentColor\" text-anchor=\"middle\" y=\"309.5\">\n",
       "    <tspan class=\"displacy-word\" fill=\"currentColor\" x=\"575\">carnivorous</tspan>\n",
       "    <tspan class=\"displacy-tag\" dy=\"2em\" fill=\"currentColor\" x=\"575\">ADJ</tspan>\n",
       "</text>\n",
       "\n",
       "<text class=\"displacy-token\" fill=\"currentColor\" text-anchor=\"middle\" y=\"309.5\">\n",
       "    <tspan class=\"displacy-word\" fill=\"currentColor\" x=\"750\">marine</tspan>\n",
       "    <tspan class=\"displacy-tag\" dy=\"2em\" fill=\"currentColor\" x=\"750\">PROPN</tspan>\n",
       "</text>\n",
       "\n",
       "<text class=\"displacy-token\" fill=\"currentColor\" text-anchor=\"middle\" y=\"309.5\">\n",
       "    <tspan class=\"displacy-word\" fill=\"currentColor\" x=\"925\">crustaceans</tspan>\n",
       "    <tspan class=\"displacy-tag\" dy=\"2em\" fill=\"currentColor\" x=\"925\">PROPN</tspan>\n",
       "</text>\n",
       "\n",
       "<g class=\"displacy-arrow\">\n",
       "    <path class=\"displacy-arc\" id=\"arrow-80f9986b1c974eea85698797efa0564d-0-0\" stroke-width=\"2px\" d=\"M70,264.5 C70,177.0 215.0,177.0 215.0,264.5\" fill=\"none\" stroke=\"currentColor\"/>\n",
       "    <text dy=\"1.25em\" style=\"font-size: 0.8em; letter-spacing: 1px\">\n",
       "        <textPath xlink:href=\"#arrow-80f9986b1c974eea85698797efa0564d-0-0\" class=\"displacy-label\" startOffset=\"50%\" side=\"left\" fill=\"currentColor\" text-anchor=\"middle\">compound</textPath>\n",
       "    </text>\n",
       "    <path class=\"displacy-arrowhead\" d=\"M70,266.5 L62,254.5 78,254.5\" fill=\"currentColor\"/>\n",
       "</g>\n",
       "\n",
       "<g class=\"displacy-arrow\">\n",
       "    <path class=\"displacy-arc\" id=\"arrow-80f9986b1c974eea85698797efa0564d-0-1\" stroke-width=\"2px\" d=\"M245,264.5 C245,177.0 390.0,177.0 390.0,264.5\" fill=\"none\" stroke=\"currentColor\"/>\n",
       "    <text dy=\"1.25em\" style=\"font-size: 0.8em; letter-spacing: 1px\">\n",
       "        <textPath xlink:href=\"#arrow-80f9986b1c974eea85698797efa0564d-0-1\" class=\"displacy-label\" startOffset=\"50%\" side=\"left\" fill=\"currentColor\" text-anchor=\"middle\">nsubj</textPath>\n",
       "    </text>\n",
       "    <path class=\"displacy-arrowhead\" d=\"M245,266.5 L237,254.5 253,254.5\" fill=\"currentColor\"/>\n",
       "</g>\n",
       "\n",
       "<g class=\"displacy-arrow\">\n",
       "    <path class=\"displacy-arc\" id=\"arrow-80f9986b1c974eea85698797efa0564d-0-2\" stroke-width=\"2px\" d=\"M595,264.5 C595,89.5 920.0,89.5 920.0,264.5\" fill=\"none\" stroke=\"currentColor\"/>\n",
       "    <text dy=\"1.25em\" style=\"font-size: 0.8em; letter-spacing: 1px\">\n",
       "        <textPath xlink:href=\"#arrow-80f9986b1c974eea85698797efa0564d-0-2\" class=\"displacy-label\" startOffset=\"50%\" side=\"left\" fill=\"currentColor\" text-anchor=\"middle\">amod</textPath>\n",
       "    </text>\n",
       "    <path class=\"displacy-arrowhead\" d=\"M595,266.5 L587,254.5 603,254.5\" fill=\"currentColor\"/>\n",
       "</g>\n",
       "\n",
       "<g class=\"displacy-arrow\">\n",
       "    <path class=\"displacy-arc\" id=\"arrow-80f9986b1c974eea85698797efa0564d-0-3\" stroke-width=\"2px\" d=\"M770,264.5 C770,177.0 915.0,177.0 915.0,264.5\" fill=\"none\" stroke=\"currentColor\"/>\n",
       "    <text dy=\"1.25em\" style=\"font-size: 0.8em; letter-spacing: 1px\">\n",
       "        <textPath xlink:href=\"#arrow-80f9986b1c974eea85698797efa0564d-0-3\" class=\"displacy-label\" startOffset=\"50%\" side=\"left\" fill=\"currentColor\" text-anchor=\"middle\">amod</textPath>\n",
       "    </text>\n",
       "    <path class=\"displacy-arrowhead\" d=\"M770,266.5 L762,254.5 778,254.5\" fill=\"currentColor\"/>\n",
       "</g>\n",
       "\n",
       "<g class=\"displacy-arrow\">\n",
       "    <path class=\"displacy-arc\" id=\"arrow-80f9986b1c974eea85698797efa0564d-0-4\" stroke-width=\"2px\" d=\"M420,264.5 C420,2.0 925.0,2.0 925.0,264.5\" fill=\"none\" stroke=\"currentColor\"/>\n",
       "    <text dy=\"1.25em\" style=\"font-size: 0.8em; letter-spacing: 1px\">\n",
       "        <textPath xlink:href=\"#arrow-80f9986b1c974eea85698797efa0564d-0-4\" class=\"displacy-label\" startOffset=\"50%\" side=\"left\" fill=\"currentColor\" text-anchor=\"middle\">attr</textPath>\n",
       "    </text>\n",
       "    <path class=\"displacy-arrowhead\" d=\"M925.0,266.5 L933.0,254.5 917.0,254.5\" fill=\"currentColor\"/>\n",
       "</g>\n",
       "</svg></span>"
      ],
      "text/plain": [
       "<IPython.core.display.HTML object>"
      ]
     },
     "metadata": {},
     "output_type": "display_data"
    }
   ],
   "source": [
    "from spacy import displacy # Dependency Tree\n",
    "tokens = dictionary(sen)\n",
    "displacy.render(tokens, style='dep')"
   ]
  },
  {
   "cell_type": "code",
   "execution_count": 1,
   "id": "3b1bc7e8-b369-4da6-b7bb-aabd13fa661a",
   "metadata": {},
   "outputs": [
    {
     "name": "stdout",
     "output_type": "stream",
     "text": [
      "Requirement already satisfied: textacy in /anaconda/envs/azureml_py38/lib/python3.8/site-packages (0.12.0)\n",
      "Requirement already satisfied: cachetools>=4.0.0 in /anaconda/envs/azureml_py38/lib/python3.8/site-packages (from textacy) (5.3.0)\n",
      "Requirement already satisfied: spacy>=3.0.0 in /anaconda/envs/azureml_py38/lib/python3.8/site-packages (from textacy) (3.7.4)\n",
      "Requirement already satisfied: joblib>=0.13.0 in /anaconda/envs/azureml_py38/lib/python3.8/site-packages (from textacy) (1.2.0)\n",
      "Requirement already satisfied: numpy>=1.17.0 in /anaconda/envs/azureml_py38/lib/python3.8/site-packages (from textacy) (1.21.6)\n",
      "Requirement already satisfied: scikit-learn>=0.19.0 in /anaconda/envs/azureml_py38/lib/python3.8/site-packages (from textacy) (0.22.1)\n",
      "Requirement already satisfied: scipy>=0.17.0 in /anaconda/envs/azureml_py38/lib/python3.8/site-packages (from textacy) (1.5.3)\n",
      "Requirement already satisfied: cytoolz>=0.10.1 in /anaconda/envs/azureml_py38/lib/python3.8/site-packages (from textacy) (0.12.3)\n",
      "Requirement already satisfied: tqdm>=4.19.6 in /anaconda/envs/azureml_py38/lib/python3.8/site-packages (from textacy) (4.65.0)\n",
      "Requirement already satisfied: catalogue~=2.0 in /anaconda/envs/azureml_py38/lib/python3.8/site-packages (from textacy) (2.0.10)\n",
      "Requirement already satisfied: networkx>=2.0 in /anaconda/envs/azureml_py38/lib/python3.8/site-packages (from textacy) (2.5)\n",
      "Requirement already satisfied: jellyfish>=0.8.0 in /anaconda/envs/azureml_py38/lib/python3.8/site-packages (from textacy) (1.0.3)\n",
      "Requirement already satisfied: pyphen>=0.10.0 in /anaconda/envs/azureml_py38/lib/python3.8/site-packages (from textacy) (0.14.0)\n",
      "Requirement already satisfied: requests>=2.10.0 in /anaconda/envs/azureml_py38/lib/python3.8/site-packages (from textacy) (2.31.0)\n",
      "Requirement already satisfied: weasel<0.4.0,>=0.1.0 in /anaconda/envs/azureml_py38/lib/python3.8/site-packages (from spacy>=3.0.0->textacy) (0.3.4)\n",
      "Requirement already satisfied: pydantic!=1.8,!=1.8.1,<3.0.0,>=1.7.4 in /anaconda/envs/azureml_py38/lib/python3.8/site-packages (from spacy>=3.0.0->textacy) (1.10.8)\n",
      "Requirement already satisfied: packaging>=20.0 in /anaconda/envs/azureml_py38/lib/python3.8/site-packages (from spacy>=3.0.0->textacy) (23.0)\n",
      "Requirement already satisfied: srsly<3.0.0,>=2.4.3 in /anaconda/envs/azureml_py38/lib/python3.8/site-packages (from spacy>=3.0.0->textacy) (2.4.8)\n",
      "Requirement already satisfied: typer<0.10.0,>=0.3.0 in /anaconda/envs/azureml_py38/lib/python3.8/site-packages (from spacy>=3.0.0->textacy) (0.9.0)\n",
      "Requirement already satisfied: thinc<8.3.0,>=8.2.2 in /anaconda/envs/azureml_py38/lib/python3.8/site-packages (from spacy>=3.0.0->textacy) (8.2.3)\n",
      "Requirement already satisfied: cymem<2.1.0,>=2.0.2 in /anaconda/envs/azureml_py38/lib/python3.8/site-packages (from spacy>=3.0.0->textacy) (2.0.7)\n",
      "Requirement already satisfied: langcodes<4.0.0,>=3.2.0 in /anaconda/envs/azureml_py38/lib/python3.8/site-packages (from spacy>=3.0.0->textacy) (3.3.0)\n",
      "Requirement already satisfied: jinja2 in /anaconda/envs/azureml_py38/lib/python3.8/site-packages (from spacy>=3.0.0->textacy) (2.11.2)\n",
      "Requirement already satisfied: spacy-loggers<2.0.0,>=1.0.0 in /anaconda/envs/azureml_py38/lib/python3.8/site-packages (from spacy>=3.0.0->textacy) (1.0.5)\n",
      "Requirement already satisfied: preshed<3.1.0,>=3.0.2 in /anaconda/envs/azureml_py38/lib/python3.8/site-packages (from spacy>=3.0.0->textacy) (3.0.8)\n",
      "Requirement already satisfied: smart-open<7.0.0,>=5.2.1 in /anaconda/envs/azureml_py38/lib/python3.8/site-packages (from spacy>=3.0.0->textacy) (6.4.0)\n",
      "Requirement already satisfied: murmurhash<1.1.0,>=0.28.0 in /anaconda/envs/azureml_py38/lib/python3.8/site-packages (from spacy>=3.0.0->textacy) (1.0.9)\n",
      "Requirement already satisfied: spacy-legacy<3.1.0,>=3.0.11 in /anaconda/envs/azureml_py38/lib/python3.8/site-packages (from spacy>=3.0.0->textacy) (3.0.12)\n",
      "Requirement already satisfied: wasabi<1.2.0,>=0.9.1 in /anaconda/envs/azureml_py38/lib/python3.8/site-packages (from spacy>=3.0.0->textacy) (0.10.1)\n",
      "Requirement already satisfied: setuptools in /anaconda/envs/azureml_py38/lib/python3.8/site-packages (from spacy>=3.0.0->textacy) (65.6.3)\n",
      "Requirement already satisfied: toolz>=0.8.0 in /anaconda/envs/azureml_py38/lib/python3.8/site-packages (from cytoolz>=0.10.1->textacy) (0.12.0)\n",
      "Requirement already satisfied: decorator>=4.3.0 in /anaconda/envs/azureml_py38/lib/python3.8/site-packages (from networkx>=2.0->textacy) (5.1.1)\n",
      "Requirement already satisfied: idna<4,>=2.5 in /anaconda/envs/azureml_py38/lib/python3.8/site-packages (from requests>=2.10.0->textacy) (3.4)\n",
      "Requirement already satisfied: charset-normalizer<4,>=2 in /anaconda/envs/azureml_py38/lib/python3.8/site-packages (from requests>=2.10.0->textacy) (3.1.0)\n",
      "Requirement already satisfied: certifi>=2017.4.17 in /anaconda/envs/azureml_py38/lib/python3.8/site-packages (from requests>=2.10.0->textacy) (2022.9.24)\n",
      "Requirement already satisfied: urllib3<3,>=1.21.1 in /anaconda/envs/azureml_py38/lib/python3.8/site-packages (from requests>=2.10.0->textacy) (1.26.16)\n",
      "Requirement already satisfied: cloudpathlib<0.17.0,>=0.7.0 in /anaconda/envs/azureml_py38/lib/python3.8/site-packages (from weasel<0.4.0,>=0.1.0->spacy>=3.0.0->textacy) (0.16.0)\n",
      "Requirement already satisfied: confection<0.2.0,>=0.0.4 in /anaconda/envs/azureml_py38/lib/python3.8/site-packages (from weasel<0.4.0,>=0.1.0->spacy>=3.0.0->textacy) (0.1.4)\n",
      "Requirement already satisfied: typing-extensions>=4.2.0 in /anaconda/envs/azureml_py38/lib/python3.8/site-packages (from pydantic!=1.8,!=1.8.1,<3.0.0,>=1.7.4->spacy>=3.0.0->textacy) (4.6.0)\n",
      "Requirement already satisfied: click<9.0.0,>=7.1.1 in /anaconda/envs/azureml_py38/lib/python3.8/site-packages (from typer<0.10.0,>=0.3.0->spacy>=3.0.0->textacy) (8.1.3)\n",
      "Requirement already satisfied: blis<0.8.0,>=0.7.8 in /anaconda/envs/azureml_py38/lib/python3.8/site-packages (from thinc<8.3.0,>=8.2.2->spacy>=3.0.0->textacy) (0.7.11)\n",
      "Requirement already satisfied: MarkupSafe>=0.23 in /anaconda/envs/azureml_py38/lib/python3.8/site-packages (from jinja2->spacy>=3.0.0->textacy) (2.0.1)\n"
     ]
    }
   ],
   "source": [
    "!pip install textacy"
   ]
  },
  {
   "cell_type": "code",
   "execution_count": 5,
   "id": "75517509-58e0-43e5-803a-f2171ff97371",
   "metadata": {},
   "outputs": [],
   "source": []
  },
  {
   "cell_type": "code",
   "execution_count": 2,
   "id": "ff4fa931-d4c7-41d0-95e0-d11e8a903c44",
   "metadata": {},
   "outputs": [
    {
     "name": "stdout",
     "output_type": "stream",
     "text": [
      "['Corpus', 'DEFAULT_DATA_DIR', '__builtins__', '__cached__', '__doc__', '__file__', '__loader__', '__name__', '__package__', '__path__', '__spec__', '__version__', '_version', 'cache', 'constants', 'corpus', 'errors', 'extract', 'get_doc_extensions', 'identify_lang', 'io', 'lang_id', 'load_spacy_lang', 'logger', 'logging', 'make_spacy_doc', 'remove_doc_extensions', 'representations', 'set_doc_extensions', 'similarity', 'spacier', 'types', 'utils']\n"
     ]
    }
   ],
   "source": [
    "#print(dir(textacy))"
   ]
  },
  {
   "cell_type": "code",
   "execution_count": 3,
   "id": "ea0e6542-df01-4bb2-ae7c-a5188ff9d8d4",
   "metadata": {},
   "outputs": [
    {
     "name": "stdout",
     "output_type": "stream",
     "text": [
      "['__builtins__', '__cached__', '__doc__', '__file__', '__loader__', '__name__', '__package__', '__path__', '__spec__', '_exts', 'acronyms', 'acronyms_and_definitions', 'acros', 'aggregate_term_variants', 'bags', 'basics', 'clean_term_strings', 'direct_quotations', 'entities', 'keyterms', 'keyword_in_context', 'kwic', 'matches', 'ngrams', 'noun_chunks', 'regex_matches', 'semistructured_statements', 'subject_verb_object_triples', 'terms', 'terms_to_strings', 'to_bag_of_terms', 'to_bag_of_words', 'token_matches', 'triples', 'utils', 'words']\n"
     ]
    }
   ],
   "source": [
    "#print(dir(textacy.extract))"
   ]
  },
  {
   "cell_type": "code",
   "execution_count": 2,
   "id": "75ff1c3e-07b2-4c1f-b14d-146c0549c0b8",
   "metadata": {},
   "outputs": [
    {
     "name": "stdout",
     "output_type": "stream",
     "text": [
      "Collecting en-core-web-sm==3.7.1\n",
      "  Downloading https://github.com/explosion/spacy-models/releases/download/en_core_web_sm-3.7.1/en_core_web_sm-3.7.1-py3-none-any.whl (12.8 MB)\n",
      "\u001b[K     |████████████████████████████████| 12.8 MB 1.5 MB/s eta 0:00:01    |▊                               | 286 kB 1.5 MB/s eta 0:00:09\n",
      "\u001b[?25hRequirement already satisfied: spacy<3.8.0,>=3.7.2 in /anaconda/envs/azureml_py38/lib/python3.8/site-packages (from en-core-web-sm==3.7.1) (3.7.4)\n",
      "Requirement already satisfied: weasel<0.4.0,>=0.1.0 in /anaconda/envs/azureml_py38/lib/python3.8/site-packages (from spacy<3.8.0,>=3.7.2->en-core-web-sm==3.7.1) (0.3.4)\n",
      "Requirement already satisfied: spacy-loggers<2.0.0,>=1.0.0 in /anaconda/envs/azureml_py38/lib/python3.8/site-packages (from spacy<3.8.0,>=3.7.2->en-core-web-sm==3.7.1) (1.0.5)\n",
      "Requirement already satisfied: jinja2 in /anaconda/envs/azureml_py38/lib/python3.8/site-packages (from spacy<3.8.0,>=3.7.2->en-core-web-sm==3.7.1) (2.11.2)\n",
      "Requirement already satisfied: smart-open<7.0.0,>=5.2.1 in /anaconda/envs/azureml_py38/lib/python3.8/site-packages (from spacy<3.8.0,>=3.7.2->en-core-web-sm==3.7.1) (6.4.0)\n",
      "Requirement already satisfied: catalogue<2.1.0,>=2.0.6 in /anaconda/envs/azureml_py38/lib/python3.8/site-packages (from spacy<3.8.0,>=3.7.2->en-core-web-sm==3.7.1) (2.0.10)\n",
      "Requirement already satisfied: tqdm<5.0.0,>=4.38.0 in /anaconda/envs/azureml_py38/lib/python3.8/site-packages (from spacy<3.8.0,>=3.7.2->en-core-web-sm==3.7.1) (4.65.0)\n",
      "Requirement already satisfied: setuptools in /anaconda/envs/azureml_py38/lib/python3.8/site-packages (from spacy<3.8.0,>=3.7.2->en-core-web-sm==3.7.1) (65.6.3)\n",
      "Requirement already satisfied: spacy-legacy<3.1.0,>=3.0.11 in /anaconda/envs/azureml_py38/lib/python3.8/site-packages (from spacy<3.8.0,>=3.7.2->en-core-web-sm==3.7.1) (3.0.12)\n",
      "Requirement already satisfied: thinc<8.3.0,>=8.2.2 in /anaconda/envs/azureml_py38/lib/python3.8/site-packages (from spacy<3.8.0,>=3.7.2->en-core-web-sm==3.7.1) (8.2.3)\n",
      "Requirement already satisfied: packaging>=20.0 in /anaconda/envs/azureml_py38/lib/python3.8/site-packages (from spacy<3.8.0,>=3.7.2->en-core-web-sm==3.7.1) (23.0)\n",
      "Requirement already satisfied: murmurhash<1.1.0,>=0.28.0 in /anaconda/envs/azureml_py38/lib/python3.8/site-packages (from spacy<3.8.0,>=3.7.2->en-core-web-sm==3.7.1) (1.0.9)\n",
      "Requirement already satisfied: requests<3.0.0,>=2.13.0 in /anaconda/envs/azureml_py38/lib/python3.8/site-packages (from spacy<3.8.0,>=3.7.2->en-core-web-sm==3.7.1) (2.31.0)\n",
      "Requirement already satisfied: pydantic!=1.8,!=1.8.1,<3.0.0,>=1.7.4 in /anaconda/envs/azureml_py38/lib/python3.8/site-packages (from spacy<3.8.0,>=3.7.2->en-core-web-sm==3.7.1) (1.10.8)\n",
      "Requirement already satisfied: langcodes<4.0.0,>=3.2.0 in /anaconda/envs/azureml_py38/lib/python3.8/site-packages (from spacy<3.8.0,>=3.7.2->en-core-web-sm==3.7.1) (3.3.0)\n",
      "Requirement already satisfied: numpy>=1.15.0; python_version < \"3.9\" in /anaconda/envs/azureml_py38/lib/python3.8/site-packages (from spacy<3.8.0,>=3.7.2->en-core-web-sm==3.7.1) (1.21.6)\n",
      "Requirement already satisfied: typer<0.10.0,>=0.3.0 in /anaconda/envs/azureml_py38/lib/python3.8/site-packages (from spacy<3.8.0,>=3.7.2->en-core-web-sm==3.7.1) (0.9.0)\n",
      "Requirement already satisfied: cymem<2.1.0,>=2.0.2 in /anaconda/envs/azureml_py38/lib/python3.8/site-packages (from spacy<3.8.0,>=3.7.2->en-core-web-sm==3.7.1) (2.0.7)\n",
      "Requirement already satisfied: wasabi<1.2.0,>=0.9.1 in /anaconda/envs/azureml_py38/lib/python3.8/site-packages (from spacy<3.8.0,>=3.7.2->en-core-web-sm==3.7.1) (0.10.1)\n",
      "Requirement already satisfied: preshed<3.1.0,>=3.0.2 in /anaconda/envs/azureml_py38/lib/python3.8/site-packages (from spacy<3.8.0,>=3.7.2->en-core-web-sm==3.7.1) (3.0.8)\n",
      "Requirement already satisfied: srsly<3.0.0,>=2.4.3 in /anaconda/envs/azureml_py38/lib/python3.8/site-packages (from spacy<3.8.0,>=3.7.2->en-core-web-sm==3.7.1) (2.4.8)\n",
      "Requirement already satisfied: confection<0.2.0,>=0.0.4 in /anaconda/envs/azureml_py38/lib/python3.8/site-packages (from weasel<0.4.0,>=0.1.0->spacy<3.8.0,>=3.7.2->en-core-web-sm==3.7.1) (0.1.4)\n",
      "Requirement already satisfied: cloudpathlib<0.17.0,>=0.7.0 in /anaconda/envs/azureml_py38/lib/python3.8/site-packages (from weasel<0.4.0,>=0.1.0->spacy<3.8.0,>=3.7.2->en-core-web-sm==3.7.1) (0.16.0)\n",
      "Requirement already satisfied: MarkupSafe>=0.23 in /anaconda/envs/azureml_py38/lib/python3.8/site-packages (from jinja2->spacy<3.8.0,>=3.7.2->en-core-web-sm==3.7.1) (2.0.1)\n",
      "Requirement already satisfied: blis<0.8.0,>=0.7.8 in /anaconda/envs/azureml_py38/lib/python3.8/site-packages (from thinc<8.3.0,>=8.2.2->spacy<3.8.0,>=3.7.2->en-core-web-sm==3.7.1) (0.7.11)\n",
      "Requirement already satisfied: certifi>=2017.4.17 in /anaconda/envs/azureml_py38/lib/python3.8/site-packages (from requests<3.0.0,>=2.13.0->spacy<3.8.0,>=3.7.2->en-core-web-sm==3.7.1) (2022.9.24)\n",
      "Requirement already satisfied: idna<4,>=2.5 in /anaconda/envs/azureml_py38/lib/python3.8/site-packages (from requests<3.0.0,>=2.13.0->spacy<3.8.0,>=3.7.2->en-core-web-sm==3.7.1) (3.4)\n",
      "Requirement already satisfied: charset-normalizer<4,>=2 in /anaconda/envs/azureml_py38/lib/python3.8/site-packages (from requests<3.0.0,>=2.13.0->spacy<3.8.0,>=3.7.2->en-core-web-sm==3.7.1) (3.1.0)\n",
      "Requirement already satisfied: urllib3<3,>=1.21.1 in /anaconda/envs/azureml_py38/lib/python3.8/site-packages (from requests<3.0.0,>=2.13.0->spacy<3.8.0,>=3.7.2->en-core-web-sm==3.7.1) (1.26.16)\n",
      "Requirement already satisfied: typing-extensions>=4.2.0 in /anaconda/envs/azureml_py38/lib/python3.8/site-packages (from pydantic!=1.8,!=1.8.1,<3.0.0,>=1.7.4->spacy<3.8.0,>=3.7.2->en-core-web-sm==3.7.1) (4.6.0)\n",
      "Requirement already satisfied: click<9.0.0,>=7.1.1 in /anaconda/envs/azureml_py38/lib/python3.8/site-packages (from typer<0.10.0,>=0.3.0->spacy<3.8.0,>=3.7.2->en-core-web-sm==3.7.1) (8.1.3)\n",
      "Installing collected packages: en-core-web-sm\n",
      "  Attempting uninstall: en-core-web-sm\n",
      "    Found existing installation: en-core-web-sm 2.2.5\n",
      "    Uninstalling en-core-web-sm-2.2.5:\n",
      "      Successfully uninstalled en-core-web-sm-2.2.5\n",
      "Successfully installed en-core-web-sm-3.7.1\n",
      "\u001b[38;5;2m✔ Download and installation successful\u001b[0m\n",
      "You can now load the package via spacy.load('en_core_web_sm')\n"
     ]
    }
   ],
   "source": [
    "!python -m spacy download en_core_web_sm"
   ]
  },
  {
   "cell_type": "code",
   "execution_count": 5,
   "id": "1d8b8eef-b094-4dc4-8a14-86f88f3b2a2a",
   "metadata": {},
   "outputs": [
    {
     "name": "stdout",
     "output_type": "stream",
     "text": [
      "Requirement already satisfied: textacy in /anaconda/envs/azureml_py38/lib/python3.8/site-packages (0.12.0)\n",
      "Requirement already satisfied: catalogue~=2.0 in /anaconda/envs/azureml_py38/lib/python3.8/site-packages (from textacy) (2.0.10)\n",
      "Requirement already satisfied: spacy>=3.0.0 in /anaconda/envs/azureml_py38/lib/python3.8/site-packages (from textacy) (3.7.4)\n",
      "Requirement already satisfied: scipy>=0.17.0 in /anaconda/envs/azureml_py38/lib/python3.8/site-packages (from textacy) (1.5.3)\n",
      "Requirement already satisfied: pyphen>=0.10.0 in /anaconda/envs/azureml_py38/lib/python3.8/site-packages (from textacy) (0.14.0)\n",
      "Requirement already satisfied: requests>=2.10.0 in /anaconda/envs/azureml_py38/lib/python3.8/site-packages (from textacy) (2.31.0)\n",
      "Requirement already satisfied: networkx>=2.0 in /anaconda/envs/azureml_py38/lib/python3.8/site-packages (from textacy) (2.5)\n",
      "Requirement already satisfied: numpy>=1.17.0 in /anaconda/envs/azureml_py38/lib/python3.8/site-packages (from textacy) (1.21.6)\n",
      "Requirement already satisfied: cachetools>=4.0.0 in /anaconda/envs/azureml_py38/lib/python3.8/site-packages (from textacy) (5.3.0)\n",
      "Requirement already satisfied: cytoolz>=0.10.1 in /anaconda/envs/azureml_py38/lib/python3.8/site-packages (from textacy) (0.12.3)\n",
      "Requirement already satisfied: jellyfish>=0.8.0 in /anaconda/envs/azureml_py38/lib/python3.8/site-packages (from textacy) (1.0.3)\n",
      "Requirement already satisfied: scikit-learn>=0.19.0 in /anaconda/envs/azureml_py38/lib/python3.8/site-packages (from textacy) (0.22.1)\n",
      "Requirement already satisfied: tqdm>=4.19.6 in /anaconda/envs/azureml_py38/lib/python3.8/site-packages (from textacy) (4.65.0)\n",
      "Requirement already satisfied: joblib>=0.13.0 in /anaconda/envs/azureml_py38/lib/python3.8/site-packages (from textacy) (1.2.0)\n",
      "Requirement already satisfied: cymem<2.1.0,>=2.0.2 in /anaconda/envs/azureml_py38/lib/python3.8/site-packages (from spacy>=3.0.0->textacy) (2.0.7)\n",
      "Requirement already satisfied: jinja2 in /anaconda/envs/azureml_py38/lib/python3.8/site-packages (from spacy>=3.0.0->textacy) (2.11.2)\n",
      "Requirement already satisfied: typer<0.10.0,>=0.3.0 in /anaconda/envs/azureml_py38/lib/python3.8/site-packages (from spacy>=3.0.0->textacy) (0.9.0)\n",
      "Requirement already satisfied: smart-open<7.0.0,>=5.2.1 in /anaconda/envs/azureml_py38/lib/python3.8/site-packages (from spacy>=3.0.0->textacy) (6.4.0)\n",
      "Requirement already satisfied: wasabi<1.2.0,>=0.9.1 in /anaconda/envs/azureml_py38/lib/python3.8/site-packages (from spacy>=3.0.0->textacy) (0.10.1)\n",
      "Requirement already satisfied: srsly<3.0.0,>=2.4.3 in /anaconda/envs/azureml_py38/lib/python3.8/site-packages (from spacy>=3.0.0->textacy) (2.4.8)\n",
      "Requirement already satisfied: spacy-legacy<3.1.0,>=3.0.11 in /anaconda/envs/azureml_py38/lib/python3.8/site-packages (from spacy>=3.0.0->textacy) (3.0.12)\n",
      "Requirement already satisfied: preshed<3.1.0,>=3.0.2 in /anaconda/envs/azureml_py38/lib/python3.8/site-packages (from spacy>=3.0.0->textacy) (3.0.8)\n",
      "Requirement already satisfied: weasel<0.4.0,>=0.1.0 in /anaconda/envs/azureml_py38/lib/python3.8/site-packages (from spacy>=3.0.0->textacy) (0.3.4)\n",
      "Requirement already satisfied: packaging>=20.0 in /anaconda/envs/azureml_py38/lib/python3.8/site-packages (from spacy>=3.0.0->textacy) (23.0)\n",
      "Requirement already satisfied: spacy-loggers<2.0.0,>=1.0.0 in /anaconda/envs/azureml_py38/lib/python3.8/site-packages (from spacy>=3.0.0->textacy) (1.0.5)\n",
      "Requirement already satisfied: langcodes<4.0.0,>=3.2.0 in /anaconda/envs/azureml_py38/lib/python3.8/site-packages (from spacy>=3.0.0->textacy) (3.3.0)\n",
      "Requirement already satisfied: murmurhash<1.1.0,>=0.28.0 in /anaconda/envs/azureml_py38/lib/python3.8/site-packages (from spacy>=3.0.0->textacy) (1.0.9)\n",
      "Requirement already satisfied: pydantic!=1.8,!=1.8.1,<3.0.0,>=1.7.4 in /anaconda/envs/azureml_py38/lib/python3.8/site-packages (from spacy>=3.0.0->textacy) (1.10.8)\n",
      "Requirement already satisfied: setuptools in /anaconda/envs/azureml_py38/lib/python3.8/site-packages (from spacy>=3.0.0->textacy) (65.6.3)\n",
      "Requirement already satisfied: thinc<8.3.0,>=8.2.2 in /anaconda/envs/azureml_py38/lib/python3.8/site-packages (from spacy>=3.0.0->textacy) (8.2.3)\n",
      "Requirement already satisfied: charset-normalizer<4,>=2 in /anaconda/envs/azureml_py38/lib/python3.8/site-packages (from requests>=2.10.0->textacy) (3.1.0)\n",
      "Requirement already satisfied: urllib3<3,>=1.21.1 in /anaconda/envs/azureml_py38/lib/python3.8/site-packages (from requests>=2.10.0->textacy) (1.26.16)\n",
      "Requirement already satisfied: certifi>=2017.4.17 in /anaconda/envs/azureml_py38/lib/python3.8/site-packages (from requests>=2.10.0->textacy) (2022.9.24)\n",
      "Requirement already satisfied: idna<4,>=2.5 in /anaconda/envs/azureml_py38/lib/python3.8/site-packages (from requests>=2.10.0->textacy) (3.4)\n",
      "Requirement already satisfied: decorator>=4.3.0 in /anaconda/envs/azureml_py38/lib/python3.8/site-packages (from networkx>=2.0->textacy) (5.1.1)\n",
      "Requirement already satisfied: toolz>=0.8.0 in /anaconda/envs/azureml_py38/lib/python3.8/site-packages (from cytoolz>=0.10.1->textacy) (0.12.0)\n",
      "Requirement already satisfied: MarkupSafe>=0.23 in /anaconda/envs/azureml_py38/lib/python3.8/site-packages (from jinja2->spacy>=3.0.0->textacy) (2.0.1)\n",
      "Requirement already satisfied: click<9.0.0,>=7.1.1 in /anaconda/envs/azureml_py38/lib/python3.8/site-packages (from typer<0.10.0,>=0.3.0->spacy>=3.0.0->textacy) (8.1.3)\n",
      "Requirement already satisfied: typing-extensions>=3.7.4.3 in /anaconda/envs/azureml_py38/lib/python3.8/site-packages (from typer<0.10.0,>=0.3.0->spacy>=3.0.0->textacy) (4.6.0)\n",
      "Requirement already satisfied: cloudpathlib<0.17.0,>=0.7.0 in /anaconda/envs/azureml_py38/lib/python3.8/site-packages (from weasel<0.4.0,>=0.1.0->spacy>=3.0.0->textacy) (0.16.0)\n",
      "Requirement already satisfied: confection<0.2.0,>=0.0.4 in /anaconda/envs/azureml_py38/lib/python3.8/site-packages (from weasel<0.4.0,>=0.1.0->spacy>=3.0.0->textacy) (0.1.4)\n",
      "Requirement already satisfied: blis<0.8.0,>=0.7.8 in /anaconda/envs/azureml_py38/lib/python3.8/site-packages (from thinc<8.3.0,>=8.2.2->spacy>=3.0.0->textacy) (0.7.11)\n"
     ]
    }
   ],
   "source": [
    "!pip install textacy"
   ]
  },
  {
   "cell_type": "code",
   "execution_count": 1,
   "id": "dfcc59ec-a6b8-4900-9a1e-b1d3e1d57f8f",
   "metadata": {},
   "outputs": [],
   "source": [
    "import textacy\n",
    "import spacy\n",
    "data = open('mytext.txt','rt').read()\n",
    "dictionary = spacy.load(\"en_core_web_sm\")\n",
    "tokens = dictionary(data)"
   ]
  },
  {
   "cell_type": "code",
   "execution_count": 2,
   "id": "3d13e88c-f098-42f9-a688-1038d4acded1",
   "metadata": {},
   "outputs": [
    {
     "name": "stdout",
     "output_type": "stream",
     "text": [
      "['__builtins__', '__cached__', '__doc__', '__file__', '__loader__', '__name__', '__package__', '__path__', '__spec__', '_exts', 'acronyms', 'acronyms_and_definitions', 'acros', 'aggregate_term_variants', 'bags', 'basics', 'clean_term_strings', 'direct_quotations', 'entities', 'keyterms', 'keyword_in_context', 'kwic', 'matches', 'ngrams', 'noun_chunks', 'regex_matches', 'semistructured_statements', 'subject_verb_object_triples', 'terms', 'terms_to_strings', 'to_bag_of_terms', 'to_bag_of_words', 'token_matches', 'triples', 'utils', 'words']\n"
     ]
    }
   ],
   "source": [
    "print(dir(textacy.extract))"
   ]
  },
  {
   "cell_type": "code",
   "execution_count": 32,
   "id": "b990c0e1-897e-46af-a785-3f60ad45b526",
   "metadata": {},
   "outputs": [],
   "source": [
    "statements = textacy.extract.semistructured_statements(tokens,entity=\"shrimp\",cue=\"have\")"
   ]
  },
  {
   "cell_type": "code",
   "execution_count": 33,
   "id": "c40e11a5-6565-4ffa-b2ed-2fbcf3a58122",
   "metadata": {},
   "outputs": [
    {
     "name": "stdout",
     "output_type": "stream",
     "text": [
      "SSSTriple(entity=[shrimp], cue=[have], fragment=[the, ability, to, see])\n"
     ]
    }
   ],
   "source": [
    "for statement in statements:\n",
    "    print(statement)"
   ]
  },
  {
   "cell_type": "code",
   "execution_count": 34,
   "id": "b531d68e-e267-4aae-9e51-d33c46030657",
   "metadata": {},
   "outputs": [
    {
     "name": "stdout",
     "output_type": "stream",
     "text": [
      "SSSTriple(entity=[shrimp], cue=[are], fragment=[carnivorous, marine, crustaceans, of, the, order, Stomatopoda, (, from, Ancient, Greek, στόμα, (, stóma, ), '])\n"
     ]
    }
   ],
   "source": [
    "statements = textacy.extract.semistructured_statements(tokens,entity=\"shrimp\",cue=\"be\")\n",
    "for statement in statements:\n",
    "    print(statement)"
   ]
  },
  {
   "cell_type": "code",
   "execution_count": 37,
   "id": "6a7517ad-376a-4eda-9155-6f863c139513",
   "metadata": {},
   "outputs": [
    {
     "name": "stdout",
     "output_type": "stream",
     "text": [
      "[shrimp] [are] [carnivorous, marine, crustaceans, of, the, order, Stomatopoda, (, from, Ancient, Greek, στόμα, (, stóma, ), ']\n"
     ]
    }
   ],
   "source": [
    "statements = textacy.extract.semistructured_statements(tokens,entity=\"shrimp\",cue=\"be\")\n",
    "for statement in statements:\n",
    "    noun, verb, facts = statement\n",
    "    print(str(noun) + ' ' + str(verb) + ' ' + str(facts))"
   ]
  },
  {
   "cell_type": "code",
   "execution_count": 42,
   "id": "3506b350-6eeb-41a5-b479-b66765093a00",
   "metadata": {},
   "outputs": [],
   "source": [
    "chunks = textacy.extract.noun_chunks(tokens, min_freq=3)\n",
    "all_noun_chunks = []\n",
    "for chunk in chunks:\n",
    "    all_noun_chunks.append(chunk)"
   ]
  },
  {
   "cell_type": "code",
   "execution_count": null,
   "id": "da3ba8f5-d49e-40a1-875a-82e22beaf546",
   "metadata": {},
   "outputs": [],
   "source": []
  }
 ],
 "metadata": {
  "kernelspec": {
   "display_name": "Python 3.8 - AzureML",
   "language": "python",
   "name": "python38-azureml"
  },
  "language_info": {
   "codemirror_mode": {
    "name": "ipython",
    "version": 3
   },
   "file_extension": ".py",
   "mimetype": "text/x-python",
   "name": "python",
   "nbconvert_exporter": "python",
   "pygments_lexer": "ipython3",
   "version": "3.8.5"
  }
 },
 "nbformat": 4,
 "nbformat_minor": 5
}
